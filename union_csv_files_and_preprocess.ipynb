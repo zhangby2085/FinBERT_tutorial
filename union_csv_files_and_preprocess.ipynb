{
 "cells": [
  {
   "cell_type": "markdown",
   "metadata": {},
   "source": [
    "# -----------------   Union all csv files from data folder ---------------------------"
   ]
  },
  {
   "cell_type": "code",
   "execution_count": 1,
   "metadata": {},
   "outputs": [],
   "source": [
    "import os\n",
    "import pandas as pd\n",
    "import re\n",
    "import nltk\n",
    "import numpy as np"
   ]
  },
  {
   "cell_type": "code",
   "execution_count": 2,
   "metadata": {},
   "outputs": [],
   "source": [
    "# Insert datapath\n",
    "datapath = os.getcwd() +'/data'"
   ]
  },
  {
   "cell_type": "code",
   "execution_count": 3,
   "metadata": {},
   "outputs": [],
   "source": [
    "#List wanted files to combine, now just csv files\n",
    "files = [file for file in os.listdir(datapath) if file.endswith('.csv')]"
   ]
  },
  {
   "cell_type": "code",
   "execution_count": 5,
   "metadata": {},
   "outputs": [],
   "source": [
    "#Lets make datafame from the first file\n",
    "data = pd.read_csv(datapath+'/{}'.format(files[0]))"
   ]
  },
  {
   "cell_type": "code",
   "execution_count": 6,
   "metadata": {},
   "outputs": [],
   "source": [
    "#lets union all csv files and then save file as all.csv\n",
    "for i in range(1,len(files)):\n",
    "    data = data.append(pd.read_csv(datapath+'/{}'.format(files[i])))\n",
    "data.to_csv('all.csv')"
   ]
  },
  {
   "cell_type": "code",
   "execution_count": 9,
   "metadata": {},
   "outputs": [
    {
     "data": {
      "text/plain": [
       "54518"
      ]
     },
     "execution_count": 9,
     "metadata": {},
     "output_type": "execute_result"
    }
   ],
   "source": [
    "len(data)"
   ]
  },
  {
   "cell_type": "markdown",
   "metadata": {},
   "source": [
    "# ----------------- TRANSFORMATIONS FOR DIFFERENT NEEDS ------------------------"
   ]
  },
  {
   "cell_type": "code",
   "execution_count": 10,
   "metadata": {},
   "outputs": [
    {
     "name": "stderr",
     "output_type": "stream",
     "text": [
      "F:\\Anaconda3\\envs\\FinBertTrainEnv\\lib\\site-packages\\ipykernel_launcher.py:14: SettingWithCopyWarning: \n",
      "A value is trying to be set on a copy of a slice from a DataFrame.\n",
      "Try using .loc[row_indexer,col_indexer] = value instead\n",
      "\n",
      "See the caveats in the documentation: http://pandas.pydata.org/pandas-docs/stable/user_guide/indexing.html#returning-a-view-versus-a-copy\n",
      "  \n",
      "F:\\Anaconda3\\envs\\FinBertTrainEnv\\lib\\site-packages\\ipykernel_launcher.py:17: SettingWithCopyWarning: \n",
      "A value is trying to be set on a copy of a slice from a DataFrame.\n",
      "Try using .loc[row_indexer,col_indexer] = value instead\n",
      "\n",
      "See the caveats in the documentation: http://pandas.pydata.org/pandas-docs/stable/user_guide/indexing.html#returning-a-view-versus-a-copy\n",
      "F:\\Anaconda3\\envs\\FinBertTrainEnv\\lib\\site-packages\\ipykernel_launcher.py:20: SettingWithCopyWarning: \n",
      "A value is trying to be set on a copy of a slice from a DataFrame.\n",
      "Try using .loc[row_indexer,col_indexer] = value instead\n",
      "\n",
      "See the caveats in the documentation: http://pandas.pydata.org/pandas-docs/stable/user_guide/indexing.html#returning-a-view-versus-a-copy\n",
      "F:\\Anaconda3\\envs\\FinBertTrainEnv\\lib\\site-packages\\ipykernel_launcher.py:23: SettingWithCopyWarning: \n",
      "A value is trying to be set on a copy of a slice from a DataFrame.\n",
      "Try using .loc[row_indexer,col_indexer] = value instead\n",
      "\n",
      "See the caveats in the documentation: http://pandas.pydata.org/pandas-docs/stable/user_guide/indexing.html#returning-a-view-versus-a-copy\n",
      "F:\\Anaconda3\\envs\\FinBertTrainEnv\\lib\\site-packages\\ipykernel_launcher.py:26: SettingWithCopyWarning: \n",
      "A value is trying to be set on a copy of a slice from a DataFrame.\n",
      "Try using .loc[row_indexer,col_indexer] = value instead\n",
      "\n",
      "See the caveats in the documentation: http://pandas.pydata.org/pandas-docs/stable/user_guide/indexing.html#returning-a-view-versus-a-copy\n",
      "F:\\Anaconda3\\envs\\FinBertTrainEnv\\lib\\site-packages\\ipykernel_launcher.py:27: SettingWithCopyWarning: \n",
      "A value is trying to be set on a copy of a slice from a DataFrame.\n",
      "Try using .loc[row_indexer,col_indexer] = value instead\n",
      "\n",
      "See the caveats in the documentation: http://pandas.pydata.org/pandas-docs/stable/user_guide/indexing.html#returning-a-view-versus-a-copy\n"
     ]
    }
   ],
   "source": [
    "#### lets preprocess all.csv to make it nicer\n",
    "df = pd.read_csv('all.csv')\n",
    "\n",
    "#combine title and text\n",
    "df['text_and_title'] = df['structs.text_title'] + \".\" + df['word']\n",
    "\n",
    "# make label fasttext format\n",
    "df['label'] = '__label__'+df['structs.text_sect']\n",
    "\n",
    "#get rid of not needed columns\n",
    "df_final = df[['label','text_and_title']]\n",
    "\n",
    "# remove punctuation\n",
    "df_final['punctuation_removed'] = df_final['text_and_title'].astype(str).apply(lambda row: re.sub(r'[^\\w\\s]',' ',row))\n",
    "\n",
    "#remove numbers\n",
    "df_final['text_and_title_non_number'] = df_final['text_and_title'].str.replace('\\d+', '')\n",
    "\n",
    "#lowercase\n",
    "df_final['lowered'] = df_final['punctuation_removed'].apply(lambda row: str.lower(row))\n",
    "\n",
    "#tokenize\n",
    "df_final['tokenized'] = df_final['lowered'].apply(lambda r: nltk.word_tokenize(r))\n",
    "\n",
    "# get char and word counts\n",
    "df_final['char_count'] = df_final.lowered.replace(' ','').map(len)\n",
    "df_final['word_count'] = df_final.tokenized.map(len)\n",
    "\n",
    "# Save this to csv\n",
    "df_final.to_csv('all_preprocessed_no_filtering.csv')\n",
    "\n",
    "df_ft = df[['label','text_and_title']]\n",
    "# Save in the right format for FastText training\n",
    "df_ft.to_csv('fasttext_embeddings_train.txt', sep='\\t', index = False, header = False)\n",
    "df_ft.iloc[0:int(len(df)*0.8)].to_csv('train.txt', sep='\\t', index = False, header = False)\n",
    "df_ft.iloc[int(len(df)*0.8):int(len(df)*0.9)].to_csv('test.txt', sep='\\t', index = False, header = False)"
   ]
  },
  {
   "cell_type": "markdown",
   "metadata": {},
   "source": [
    "# ---------------------------- Filtering for BERT model ---------------------------------"
   ]
  },
  {
   "cell_type": "code",
   "execution_count": 11,
   "metadata": {},
   "outputs": [],
   "source": [
    "#function to cut dataframe by the amount of words in message\n",
    "def cut_df_by_word_count(df,min_words, max_words):\n",
    "    df = df[df.word_count.between(min_words,max_words)]\n",
    "    return df\n",
    "\n",
    "def cut_df_by_topic_counts(df, column, min_occurances, max_occurances):\n",
    "    value_counts = test_df['{}'.format(column)].value_counts()\n",
    "    a = value_counts.between(min_occurances,max_occurances)\n",
    "    b = [a.index[i] for i,x in enumerate(a.index) if a[i]]\n",
    "    df = df[df['{}'.format(column)].isin(b)]\n",
    "    return df"
   ]
  },
  {
   "cell_type": "code",
   "execution_count": 12,
   "metadata": {},
   "outputs": [
    {
     "data": {
      "text/plain": [
       "54518"
      ]
     },
     "execution_count": 12,
     "metadata": {},
     "output_type": "execute_result"
    }
   ],
   "source": [
    "len(df_final)"
   ]
  },
  {
   "cell_type": "code",
   "execution_count": 13,
   "metadata": {},
   "outputs": [],
   "source": [
    "# cut test_df by word_count eg.\n",
    "# here only take messages that have words between 50 to 500\n",
    "# test_df = cut_df_by_word_count(messages, 50, 500)\n",
    "lower_word_limit = 50\n",
    "upper_word_limit = 500\n",
    "\n",
    "test_df = cut_df_by_word_count(df_final, 50, 500)"
   ]
  },
  {
   "cell_type": "code",
   "execution_count": 10,
   "metadata": {},
   "outputs": [],
   "source": [
    "## if you want you can also cut df by the amount of samples in topic\n",
    "## here for example we cut topics keep only topics that have between 2000 to 20 000 messages\n",
    "#test_df = cut_df_by_topic_counts(test_df, 'label',2000, 20000)\n",
    "#lower_topic_count = 2000\n",
    "#upper_topic_count = 20000\n",
    "#test_df = cut_df_by_topic_counts(test_df, 'label',lower_topic_count, upper_topic_count)"
   ]
  },
  {
   "cell_type": "code",
   "execution_count": 15,
   "metadata": {},
   "outputs": [],
   "source": [
    "test_df.to_csv('all_preprocessed_filtered.csv')"
   ]
  },
  {
   "cell_type": "code",
   "execution_count": 16,
   "metadata": {},
   "outputs": [
    {
     "data": {
      "text/plain": [
       "__label__Yhteiskunta                      5244\n",
       "__label__Suhteet                          3229\n",
       "__label__Perhe                            3189\n",
       "__label__Työ ja opiskelu                  2481\n",
       "__label__Terveys                          2477\n",
       "__label__Lemmikit                         2151\n",
       "__label__Viihde ja kulttuuri              1818\n",
       "__label__Paikkakunnat                     1790\n",
       "__label__Talous                           1748\n",
       "__label__Urheilu ja kuntoilu              1691\n",
       "__label__Matkailu                         1676\n",
       "__label__Nuoret                           1421\n",
       "__label__Koti ja rakentaminen             1370\n",
       "__label__Ajanviete                        1277\n",
       "__label__Tiede ja teknologia              1146\n",
       "__label__Ajoneuvot ja liikenne            1024\n",
       "__label__Ryhmät                            994\n",
       "__label__Ruoka ja juoma                    994\n",
       "__label__Muoti ja kauneus                  861\n",
       "__label__Harrastukset                      741\n",
       "__label__Suomi24                           160\n",
       "__label__Tori                               34\n",
       "__label__var cname = 0;  category name       1\n",
       "Name: label, dtype: int64"
      ]
     },
     "execution_count": 16,
     "metadata": {},
     "output_type": "execute_result"
    }
   ],
   "source": [
    "test_df['label'].value_counts()"
   ]
  },
  {
   "cell_type": "code",
   "execution_count": 17,
   "metadata": {},
   "outputs": [
    {
     "data": {
      "text/plain": [
       "37517"
      ]
     },
     "execution_count": 17,
     "metadata": {},
     "output_type": "execute_result"
    }
   ],
   "source": [
    "len(test_df)"
   ]
  },
  {
   "cell_type": "code",
   "execution_count": 18,
   "metadata": {},
   "outputs": [
    {
     "data": {
      "text/plain": [
       "<matplotlib.axes._subplots.AxesSubplot at 0x217a8494388>"
      ]
     },
     "execution_count": 18,
     "metadata": {},
     "output_type": "execute_result"
    },
    {
     "data": {
      "image/png": "[encoded data removed]",
      "text/plain": [
       "<Figure size 432x288 with 1 Axes>"
      ]
     },
     "metadata": {
      "needs_background": "light"
     },
     "output_type": "display_data"
    }
   ],
   "source": [
    "pd.value_counts(test_df['label']).plot.barh()"
   ]
  },
  {
   "cell_type": "code",
   "execution_count": 19,
   "metadata": {},
   "outputs": [
    {
     "data": {
      "text/plain": [
       "<matplotlib.axes._subplots.AxesSubplot at 0x217aab71d48>"
      ]
     },
     "execution_count": 19,
     "metadata": {},
     "output_type": "execute_result"
    },
    {
     "data": {
      "image/png": "[encoded data removed]",
      "text/plain": [
       "<Figure size 432x288 with 1 Axes>"
      ]
     },
     "metadata": {
      "needs_background": "light"
     },
     "output_type": "display_data"
    }
   ],
   "source": [
    "test_df.word_count.hist(bins=np.linspace(0,1000,100))"
   ]
  },
  {
   "cell_type": "code",
   "execution_count": null,
   "metadata": {},
   "outputs": [],
   "source": []
  }
 ],
 "metadata": {
  "kernelspec": {
   "display_name": "Python 3",
   "language": "python",
   "name": "python3"
  },
  "language_info": {
   "codemirror_mode": {
    "name": "ipython",
    "version": 3
   },
   "file_extension": ".py",
   "mimetype": "text/x-python",
   "name": "python",
   "nbconvert_exporter": "python",
   "pygments_lexer": "ipython3",
   "version": "3.7.6"
  }
 },
 "nbformat": 4,
 "nbformat_minor": 2
}
