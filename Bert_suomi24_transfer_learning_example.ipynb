{
 "cells": [
  {
   "cell_type": "code",
   "execution_count": 1,
   "metadata": {},
   "outputs": [
    {
     "name": "stdout",
     "output_type": "stream",
     "text": [
      "using Keras version: 2.2.4-tf\n"
     ]
    }
   ],
   "source": [
    "import ktrain\n",
    "from ktrain import text\n",
    "import pandas as pd"
   ]
  },
  {
   "cell_type": "code",
   "execution_count": 2,
   "metadata": {},
   "outputs": [],
   "source": [
    "%reload_ext autoreload\n",
    "%autoreload 2\n",
    "%matplotlib inline\n",
    "import os\n",
    "os.environ[\"CUDA_DEVICE_ORDER\"]=\"PCI_BUS_ID\";\n",
    "os.environ[\"CUDA_VISIBLE_DEVICES\"]=\"0\"; "
   ]
  },
  {
   "cell_type": "code",
   "execution_count": 3,
   "metadata": {},
   "outputs": [],
   "source": [
    "df = pd.read_csv('all_preprocessed_filtered.csv').drop_duplicates()"
   ]
  },
  {
   "cell_type": "code",
   "execution_count": 4,
   "metadata": {},
   "outputs": [
    {
     "data": {
      "text/plain": [
       "__label__Yhteiskunta                      5244\n",
       "__label__Suhteet                          3229\n",
       "__label__Perhe                            3189\n",
       "__label__Työ ja opiskelu                  2481\n",
       "__label__Terveys                          2477\n",
       "__label__Lemmikit                         2151\n",
       "__label__Viihde ja kulttuuri              1818\n",
       "__label__Paikkakunnat                     1790\n",
       "__label__Talous                           1748\n",
       "__label__Urheilu ja kuntoilu              1691\n",
       "__label__Matkailu                         1676\n",
       "__label__Nuoret                           1421\n",
       "__label__Koti ja rakentaminen             1370\n",
       "__label__Ajanviete                        1277\n",
       "__label__Tiede ja teknologia              1146\n",
       "__label__Ajoneuvot ja liikenne            1024\n",
       "__label__Ryhmät                            994\n",
       "__label__Ruoka ja juoma                    994\n",
       "__label__Muoti ja kauneus                  861\n",
       "__label__Harrastukset                      741\n",
       "__label__Suomi24                           160\n",
       "__label__Tori                               34\n",
       "__label__var cname = 0;  category name       1\n",
       "Name: label, dtype: int64"
      ]
     },
     "execution_count": 4,
     "metadata": {},
     "output_type": "execute_result"
    }
   ],
   "source": [
    "df.label.value_counts()"
   ]
  },
  {
   "cell_type": "code",
   "execution_count": 5,
   "metadata": {},
   "outputs": [],
   "source": [
    "labels_to_keep = ['__label__Terveys', '__label__Talous','__label__Lemmikit','__label__Urheilu ja kuntoilu','__label__Matkailu']\n",
    "\n",
    "df = df[df.label.isin(labels_to_keep)]\n",
    "g = df.groupby('label')\n",
    "\n",
    "df = pd.DataFrame(g.apply(lambda x: x.sample(g.size().min()).reset_index(drop=True)))"
   ]
  },
  {
   "cell_type": "code",
   "execution_count": 6,
   "metadata": {},
   "outputs": [
    {
     "data": {
      "text/plain": [
       "__label__Matkailu               1676\n",
       "__label__Terveys                1676\n",
       "__label__Lemmikit               1676\n",
       "__label__Talous                 1676\n",
       "__label__Urheilu ja kuntoilu    1676\n",
       "Name: label, dtype: int64"
      ]
     },
     "execution_count": 6,
     "metadata": {},
     "output_type": "execute_result"
    }
   ],
   "source": [
    "df.label.value_counts()"
   ]
  },
  {
   "cell_type": "code",
   "execution_count": 7,
   "metadata": {},
   "outputs": [],
   "source": [
    "#df['text_and_title'] = df['text_and_title'].fillna('NA')"
   ]
  },
  {
   "cell_type": "code",
   "execution_count": 8,
   "metadata": {},
   "outputs": [],
   "source": [
    "df = df[['label','text_and_title']]"
   ]
  },
  {
   "cell_type": "code",
   "execution_count": 9,
   "metadata": {},
   "outputs": [],
   "source": [
    "df = pd.concat([df, df.label.astype('str').str.get_dummies()], axis=1, sort=False)"
   ]
  },
  {
   "cell_type": "code",
   "execution_count": 10,
   "metadata": {},
   "outputs": [
    {
     "data": {
      "text/html": [
       "<div>\n",
       "<style scoped>\n",
       "    .dataframe tbody tr th:only-of-type {\n",
       "        vertical-align: middle;\n",
       "    }\n",
       "\n",
       "    .dataframe tbody tr th {\n",
       "        vertical-align: top;\n",
       "    }\n",
       "\n",
       "    .dataframe thead th {\n",
       "        text-align: right;\n",
       "    }\n",
       "</style>\n",
       "<table border=\"1\" class=\"dataframe\">\n",
       "  <thead>\n",
       "    <tr style=\"text-align: right;\">\n",
       "      <th></th>\n",
       "      <th></th>\n",
       "      <th>label</th>\n",
       "      <th>text_and_title</th>\n",
       "      <th>__label__Lemmikit</th>\n",
       "      <th>__label__Matkailu</th>\n",
       "      <th>__label__Talous</th>\n",
       "      <th>__label__Terveys</th>\n",
       "      <th>__label__Urheilu ja kuntoilu</th>\n",
       "    </tr>\n",
       "    <tr>\n",
       "      <th>label</th>\n",
       "      <th></th>\n",
       "      <th></th>\n",
       "      <th></th>\n",
       "      <th></th>\n",
       "      <th></th>\n",
       "      <th></th>\n",
       "      <th></th>\n",
       "      <th></th>\n",
       "    </tr>\n",
       "  </thead>\n",
       "  <tbody>\n",
       "    <tr>\n",
       "      <th rowspan=\"5\" valign=\"top\">__label__Lemmikit</th>\n",
       "      <th>0</th>\n",
       "      <td>__label__Lemmikit</td>\n",
       "      <td>jackrusselinterrieri..aivan,ihania,itselläni,o...</td>\n",
       "      <td>1</td>\n",
       "      <td>0</td>\n",
       "      <td>0</td>\n",
       "      <td>0</td>\n",
       "      <td>0</td>\n",
       "    </tr>\n",
       "    <tr>\n",
       "      <th>1</th>\n",
       "      <td>__label__Lemmikit</td>\n",
       "      <td>Kultainennoutaja!.Minun,oma,kultainennoutaja,n...</td>\n",
       "      <td>1</td>\n",
       "      <td>0</td>\n",
       "      <td>0</td>\n",
       "      <td>0</td>\n",
       "      <td>0</td>\n",
       "    </tr>\n",
       "    <tr>\n",
       "      <th>2</th>\n",
       "      <td>__label__Lemmikit</td>\n",
       "      <td>Isojen koirien omistus kriminalisoitava, HETI ...</td>\n",
       "      <td>1</td>\n",
       "      <td>0</td>\n",
       "      <td>0</td>\n",
       "      <td>0</td>\n",
       "      <td>0</td>\n",
       "    </tr>\n",
       "    <tr>\n",
       "      <th>3</th>\n",
       "      <td>__label__Lemmikit</td>\n",
       "      <td>Ei rescue koirille..Vanha,=,viisas,-,-&amp;gt,;,ei...</td>\n",
       "      <td>1</td>\n",
       "      <td>0</td>\n",
       "      <td>0</td>\n",
       "      <td>0</td>\n",
       "      <td>0</td>\n",
       "    </tr>\n",
       "    <tr>\n",
       "      <th>4</th>\n",
       "      <td>__label__Lemmikit</td>\n",
       "      <td>PITBULLIT RAATELIVAT NAISEN HELSINGISSÄ.Tässä,...</td>\n",
       "      <td>1</td>\n",
       "      <td>0</td>\n",
       "      <td>0</td>\n",
       "      <td>0</td>\n",
       "      <td>0</td>\n",
       "    </tr>\n",
       "  </tbody>\n",
       "</table>\n",
       "</div>"
      ],
      "text/plain": [
       "                                 label  \\\n",
       "label                                    \n",
       "__label__Lemmikit 0  __label__Lemmikit   \n",
       "                  1  __label__Lemmikit   \n",
       "                  2  __label__Lemmikit   \n",
       "                  3  __label__Lemmikit   \n",
       "                  4  __label__Lemmikit   \n",
       "\n",
       "                                                        text_and_title  \\\n",
       "label                                                                    \n",
       "__label__Lemmikit 0  jackrusselinterrieri..aivan,ihania,itselläni,o...   \n",
       "                  1  Kultainennoutaja!.Minun,oma,kultainennoutaja,n...   \n",
       "                  2  Isojen koirien omistus kriminalisoitava, HETI ...   \n",
       "                  3  Ei rescue koirille..Vanha,=,viisas,-,-&gt,;,ei...   \n",
       "                  4  PITBULLIT RAATELIVAT NAISEN HELSINGISSÄ.Tässä,...   \n",
       "\n",
       "                     __label__Lemmikit  __label__Matkailu  __label__Talous  \\\n",
       "label                                                                        \n",
       "__label__Lemmikit 0                  1                  0                0   \n",
       "                  1                  1                  0                0   \n",
       "                  2                  1                  0                0   \n",
       "                  3                  1                  0                0   \n",
       "                  4                  1                  0                0   \n",
       "\n",
       "                     __label__Terveys  __label__Urheilu ja kuntoilu  \n",
       "label                                                                \n",
       "__label__Lemmikit 0                 0                             0  \n",
       "                  1                 0                             0  \n",
       "                  2                 0                             0  \n",
       "                  3                 0                             0  \n",
       "                  4                 0                             0  "
      ]
     },
     "execution_count": 10,
     "metadata": {},
     "output_type": "execute_result"
    }
   ],
   "source": [
    "df.head()"
   ]
  },
  {
   "cell_type": "code",
   "execution_count": 11,
   "metadata": {},
   "outputs": [],
   "source": [
    "df=df.drop(columns=('label'))"
   ]
  },
  {
   "cell_type": "code",
   "execution_count": 12,
   "metadata": {},
   "outputs": [],
   "source": [
    "df.reset_index(drop=True, inplace=True)"
   ]
  },
  {
   "cell_type": "code",
   "execution_count": 13,
   "metadata": {},
   "outputs": [
    {
     "data": {
      "text/html": [
       "<div>\n",
       "<style scoped>\n",
       "    .dataframe tbody tr th:only-of-type {\n",
       "        vertical-align: middle;\n",
       "    }\n",
       "\n",
       "    .dataframe tbody tr th {\n",
       "        vertical-align: top;\n",
       "    }\n",
       "\n",
       "    .dataframe thead th {\n",
       "        text-align: right;\n",
       "    }\n",
       "</style>\n",
       "<table border=\"1\" class=\"dataframe\">\n",
       "  <thead>\n",
       "    <tr style=\"text-align: right;\">\n",
       "      <th></th>\n",
       "      <th>text_and_title</th>\n",
       "      <th>__label__Lemmikit</th>\n",
       "      <th>__label__Matkailu</th>\n",
       "      <th>__label__Talous</th>\n",
       "      <th>__label__Terveys</th>\n",
       "      <th>__label__Urheilu ja kuntoilu</th>\n",
       "    </tr>\n",
       "  </thead>\n",
       "  <tbody>\n",
       "    <tr>\n",
       "      <th>0</th>\n",
       "      <td>jackrusselinterrieri..aivan,ihania,itselläni,o...</td>\n",
       "      <td>1</td>\n",
       "      <td>0</td>\n",
       "      <td>0</td>\n",
       "      <td>0</td>\n",
       "      <td>0</td>\n",
       "    </tr>\n",
       "    <tr>\n",
       "      <th>1</th>\n",
       "      <td>Kultainennoutaja!.Minun,oma,kultainennoutaja,n...</td>\n",
       "      <td>1</td>\n",
       "      <td>0</td>\n",
       "      <td>0</td>\n",
       "      <td>0</td>\n",
       "      <td>0</td>\n",
       "    </tr>\n",
       "    <tr>\n",
       "      <th>2</th>\n",
       "      <td>Isojen koirien omistus kriminalisoitava, HETI ...</td>\n",
       "      <td>1</td>\n",
       "      <td>0</td>\n",
       "      <td>0</td>\n",
       "      <td>0</td>\n",
       "      <td>0</td>\n",
       "    </tr>\n",
       "    <tr>\n",
       "      <th>3</th>\n",
       "      <td>Ei rescue koirille..Vanha,=,viisas,-,-&amp;gt,;,ei...</td>\n",
       "      <td>1</td>\n",
       "      <td>0</td>\n",
       "      <td>0</td>\n",
       "      <td>0</td>\n",
       "      <td>0</td>\n",
       "    </tr>\n",
       "    <tr>\n",
       "      <th>4</th>\n",
       "      <td>PITBULLIT RAATELIVAT NAISEN HELSINGISSÄ.Tässä,...</td>\n",
       "      <td>1</td>\n",
       "      <td>0</td>\n",
       "      <td>0</td>\n",
       "      <td>0</td>\n",
       "      <td>0</td>\n",
       "    </tr>\n",
       "  </tbody>\n",
       "</table>\n",
       "</div>"
      ],
      "text/plain": [
       "                                      text_and_title  __label__Lemmikit  \\\n",
       "0  jackrusselinterrieri..aivan,ihania,itselläni,o...                  1   \n",
       "1  Kultainennoutaja!.Minun,oma,kultainennoutaja,n...                  1   \n",
       "2  Isojen koirien omistus kriminalisoitava, HETI ...                  1   \n",
       "3  Ei rescue koirille..Vanha,=,viisas,-,-&gt,;,ei...                  1   \n",
       "4  PITBULLIT RAATELIVAT NAISEN HELSINGISSÄ.Tässä,...                  1   \n",
       "\n",
       "   __label__Matkailu  __label__Talous  __label__Terveys  \\\n",
       "0                  0                0                 0   \n",
       "1                  0                0                 0   \n",
       "2                  0                0                 0   \n",
       "3                  0                0                 0   \n",
       "4                  0                0                 0   \n",
       "\n",
       "   __label__Urheilu ja kuntoilu  \n",
       "0                             0  \n",
       "1                             0  \n",
       "2                             0  \n",
       "3                             0  \n",
       "4                             0  "
      ]
     },
     "execution_count": 13,
     "metadata": {},
     "output_type": "execute_result"
    }
   ],
   "source": [
    "df.head()"
   ]
  },
  {
   "cell_type": "code",
   "execution_count": 14,
   "metadata": {},
   "outputs": [],
   "source": [
    "label_columns = [i for i in df.columns[1:]]\n"
   ]
  },
  {
   "cell_type": "code",
   "execution_count": 15,
   "metadata": {},
   "outputs": [
    {
     "name": "stdout",
     "output_type": "stream",
     "text": [
      "preprocessing train...\n",
      "language: fi\n"
     ]
    },
    {
     "data": {
      "text/html": [
       "done."
      ],
      "text/plain": [
       "<IPython.core.display.HTML object>"
      ]
     },
     "metadata": {},
     "output_type": "display_data"
    },
    {
     "name": "stdout",
     "output_type": "stream",
     "text": [
      "preprocessing test...\n",
      "language: fi\n"
     ]
    },
    {
     "data": {
      "text/html": [
       "done."
      ],
      "text/plain": [
       "<IPython.core.display.HTML object>"
      ]
     },
     "metadata": {},
     "output_type": "display_data"
    }
   ],
   "source": [
    "(x_train, y_train), (x_test, y_test), preproc = text.texts_from_df(df, \n",
    "                                                                   'text_and_title', # name of column containing review text\n",
    "                                                                   label_columns=label_columns,\n",
    "                                                                   maxlen=100, \n",
    "                                                                   max_features=100000,\n",
    "                                                                   preprocess_mode='bert',\n",
    "                                                                   val_pct=0.2)"
   ]
  },
  {
   "cell_type": "code",
   "execution_count": 20,
   "metadata": {},
   "outputs": [
    {
     "name": "stdout",
     "output_type": "stream",
     "text": [
      "Is Multi-Label? False\n",
      "maxlen is 100\n",
      "done.\n"
     ]
    }
   ],
   "source": [
    "model = text.text_classifier('bert', (x_train, y_train) , preproc=preproc)\n",
    "learner = ktrain.get_learner(model, \n",
    "                             train_data=(x_train, y_train), \n",
    "                             val_data=(x_test, y_test), \n",
    "                             batch_size=16)"
   ]
  },
  {
   "cell_type": "code",
   "execution_count": 21,
   "metadata": {},
   "outputs": [
    {
     "name": "stdout",
     "output_type": "stream",
     "text": [
      "simulating training for different learning rates... this may take a few moments...\n",
      "Train on 6704 samples\n",
      "Epoch 1/1024\n",
      "6704/6704 [==============================] - 334s 50ms/sample - loss: 1.2612 - accuracy: 0.4997\n",
      "Epoch 2/1024\n",
      "6096/6704 [==========================>...] - ETA: 29s - loss: 0.3777 - accuracy: 0.8912\n",
      "\n",
      "done.\n",
      "Please invoke the Learner.lr_plot() method to visually inspect the loss plot to help identify the maximal learning rate associated with falling loss.\n"
     ]
    },
    {
     "data": {
      "image/png": "[encoded data removed]",
      "text/plain": [
       "<Figure size 432x288 with 1 Axes>"
      ]
     },
     "metadata": {
      "needs_background": "light"
     },
     "output_type": "display_data"
    }
   ],
   "source": [
    "learner.lr_find()\n",
    "learner.lr_plot()"
   ]
  },
  {
   "cell_type": "code",
   "execution_count": 22,
   "metadata": {},
   "outputs": [
    {
     "name": "stdout",
     "output_type": "stream",
     "text": [
      "\n",
      "\n",
      "begin training using onecycle policy with max lr of 6e-05...\n",
      "Train on 6704 samples, validate on 1676 samples\n",
      "6704/6704 [==============================] - 366s 55ms/sample - loss: 0.3583 - accuracy: 0.8795 - val_loss: 0.0869 - val_accuracy: 0.9732\n"
     ]
    },
    {
     "data": {
      "text/plain": [
       "<tensorflow.python.keras.callbacks.History at 0x245c5142c88>"
      ]
     },
     "execution_count": 22,
     "metadata": {},
     "output_type": "execute_result"
    }
   ],
   "source": [
    "learner.fit_onecycle(6e-5, 1)"
   ]
  },
  {
   "cell_type": "code",
   "execution_count": 23,
   "metadata": {},
   "outputs": [
    {
     "name": "stdout",
     "output_type": "stream",
     "text": [
      "                              precision    recall  f1-score   support\n",
      "\n",
      "           __label__Lemmikit       0.99      0.99      0.99       338\n",
      "           __label__Matkailu       0.99      0.95      0.97       326\n",
      "             __label__Talous       0.95      0.98      0.96       324\n",
      "            __label__Terveys       0.96      0.99      0.97       340\n",
      "__label__Urheilu ja kuntoilu       0.98      0.97      0.97       348\n",
      "\n",
      "                    accuracy                           0.97      1676\n",
      "                   macro avg       0.97      0.97      0.97      1676\n",
      "                weighted avg       0.97      0.97      0.97      1676\n",
      "\n"
     ]
    },
    {
     "data": {
      "text/plain": [
       "array([[334,   0,   0,   3,   1],\n",
       "       [  2, 309,  11,   1,   3],\n",
       "       [  1,   2, 317,   2,   2],\n",
       "       [  0,   0,   3, 335,   2],\n",
       "       [  2,   0,   2,   8, 336]], dtype=int64)"
      ]
     },
     "execution_count": 23,
     "metadata": {},
     "output_type": "execute_result"
    }
   ],
   "source": [
    "learner.validate(val_data=(x_test, y_test), class_names=label_columns)"
   ]
  },
  {
   "cell_type": "code",
   "execution_count": 24,
   "metadata": {},
   "outputs": [],
   "source": [
    "predictor = ktrain.get_predictor(learner.model, preproc)"
   ]
  },
  {
   "cell_type": "code",
   "execution_count": 25,
   "metadata": {},
   "outputs": [
    {
     "name": "stdout",
     "output_type": "stream",
     "text": [
      "kissat on kivoja\n"
     ]
    },
    {
     "data": {
      "text/html": [],
      "text/plain": [
       "<IPython.core.display.HTML object>"
      ]
     },
     "metadata": {},
     "output_type": "display_data"
    },
    {
     "name": "stdout",
     "output_type": "stream",
     "text": [
      "__label__Lemmikit\n",
      "Suomen talous on kuralla, hallitus vaihtoon\n"
     ]
    },
    {
     "data": {
      "text/html": [],
      "text/plain": [
       "<IPython.core.display.HTML object>"
      ]
     },
     "metadata": {},
     "output_type": "display_data"
    },
    {
     "name": "stdout",
     "output_type": "stream",
     "text": [
      "__label__Talous\n",
      "Kuntosalilla käyminen on kivaa, tulee hiki pintaan ja mielikin virkistyy\n"
     ]
    },
    {
     "data": {
      "text/html": [],
      "text/plain": [
       "<IPython.core.display.HTML object>"
      ]
     },
     "metadata": {},
     "output_type": "display_data"
    },
    {
     "name": "stdout",
     "output_type": "stream",
     "text": [
      "__label__Urheilu ja kuntoilu\n"
     ]
    }
   ],
   "source": [
    "texts = [\"kissat on kivoja\",\"Suomen talous on kuralla, hallitus vaihtoon\", \"Kuntosalilla käyminen on kivaa, tulee hiki pintaan ja mielikin virkistyy\"]\n",
    "for text in texts:\n",
    "    print(text)\n",
    "    prediction = predictor.predict(text)\n",
    "    print(prediction)"
   ]
  },
  {
   "cell_type": "code",
   "execution_count": 21,
   "metadata": {},
   "outputs": [],
   "source": [
    "predictor.save('model/suomi24_5_topic_model_FinBERT')"
   ]
  },
  {
   "cell_type": "code",
   "execution_count": null,
   "metadata": {},
   "outputs": [],
   "source": []
  }
 ],
 "metadata": {
  "kernelspec": {
   "display_name": "Python [conda env:FinBertTrainEnv] *",
   "language": "python",
   "name": "conda-env-FinBertTrainEnv-py"
  },
  "language_info": {
   "codemirror_mode": {
    "name": "ipython",
    "version": 3
   },
   "file_extension": ".py",
   "mimetype": "text/x-python",
   "name": "python",
   "nbconvert_exporter": "python",
   "pygments_lexer": "ipython3",
   "version": "3.7.6"
  }
 },
 "nbformat": 4,
 "nbformat_minor": 2
}
